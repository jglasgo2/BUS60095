{
  "cells": [
    {
      "cell_type": "markdown",
      "metadata": {
        "id": "view-in-github",
        "colab_type": "text"
      },
      "source": [
        "<a href=\"https://colab.research.google.com/github/jglasgo2/BUS60095/blob/main/Assignment2_BUS60095_Glasgow.ipynb\" target=\"_parent\"><img src=\"https://colab.research.google.com/assets/colab-badge.svg\" alt=\"Open In Colab\"/></a>"
      ]
    },
    {
      "cell_type": "markdown",
      "metadata": {
        "id": "sVX6BJKx682Z"
      },
      "source": [
        "**Assignment 2**\n",
        "\n",
        "**Text Analysis and NLP**\n",
        "\n",
        "**By: Jeremy Glasgow**"
      ]
    },
    {
      "cell_type": "markdown",
      "metadata": {
        "id": "opmvpIJj7VP8"
      },
      "source": [
        "1. Data Acquisition"
      ]
    },
    {
      "cell_type": "code",
      "execution_count": 1,
      "metadata": {
        "colab": {
          "base_uri": "https://localhost:8080/",
          "height": 0
        },
        "id": "umO4qmyq63M4",
        "outputId": "e86484ce-08b8-42d7-f1b0-08c80c211417"
      },
      "outputs": [
        {
          "output_type": "stream",
          "name": "stdout",
          "text": [
            "Drive already mounted at /content/drive; to attempt to forcibly remount, call drive.mount(\"/content/drive\", force_remount=True).\n"
          ]
        }
      ],
      "source": [
        "import pandas as pd\n",
        "from google.colab import drive\n",
        "drive.mount('/content/drive')\n",
        "pathToCsv = '/content/drive/MyDrive/complaints-cfpb-1.csv'\n",
        "data = pd.read_csv(pathToCsv)"
      ]
    },
    {
      "cell_type": "code",
      "execution_count": 2,
      "metadata": {
        "colab": {
          "base_uri": "https://localhost:8080/",
          "height": 0
        },
        "id": "Gt8rir-c9cjM",
        "outputId": "0d8ad1db-014d-43bc-e129-4b1961279d12"
      },
      "outputs": [
        {
          "output_type": "stream",
          "name": "stdout",
          "text": [
            "<class 'pandas.core.frame.DataFrame'>\n",
            "RangeIndex: 79973 entries, 0 to 79972\n",
            "Data columns (total 18 columns):\n",
            " #   Column                        Non-Null Count  Dtype  \n",
            "---  ------                        --------------  -----  \n",
            " 0   Date received                 79973 non-null  object \n",
            " 1   Product                       79973 non-null  object \n",
            " 2   Sub-product                   79973 non-null  object \n",
            " 3   Issue                         79973 non-null  object \n",
            " 4   Sub-issue                     79662 non-null  object \n",
            " 5   Consumer complaint narrative  79973 non-null  object \n",
            " 6   Company public response       51328 non-null  object \n",
            " 7   Company                       79973 non-null  object \n",
            " 8   State                         79706 non-null  object \n",
            " 9   ZIP code                      79973 non-null  object \n",
            " 10  Tags                          4432 non-null   object \n",
            " 11  Consumer consent provided?    79973 non-null  object \n",
            " 12  Submitted via                 79973 non-null  object \n",
            " 13  Date sent to company          79973 non-null  object \n",
            " 14  Company response to consumer  79972 non-null  object \n",
            " 15  Timely response?              79973 non-null  object \n",
            " 16  Consumer disputed?            0 non-null      float64\n",
            " 17  Complaint ID                  79973 non-null  int64  \n",
            "dtypes: float64(1), int64(1), object(16)\n",
            "memory usage: 11.0+ MB\n"
          ]
        }
      ],
      "source": [
        "data.info()"
      ]
    },
    {
      "cell_type": "markdown",
      "metadata": {
        "id": "fe5Yq4vl_R9R"
      },
      "source": [
        "2. Text Preproccessing"
      ]
    },
    {
      "cell_type": "code",
      "execution_count": 3,
      "metadata": {
        "id": "q_bFUmsD_FhU"
      },
      "outputs": [],
      "source": [
        "rowsToDrop = data[data['Consumer complaint narrative'].isna()].index\n",
        "data.drop(rowsToDrop, inplace=True)"
      ]
    },
    {
      "cell_type": "code",
      "execution_count": 4,
      "metadata": {
        "colab": {
          "base_uri": "https://localhost:8080/",
          "height": 0
        },
        "id": "zNNKZ-35_ihQ",
        "outputId": "6b0bd133-649f-47a2-9710-71affd05d8c6"
      },
      "outputs": [
        {
          "output_type": "stream",
          "name": "stdout",
          "text": [
            "<class 'pandas.core.frame.DataFrame'>\n",
            "RangeIndex: 79973 entries, 0 to 79972\n",
            "Data columns (total 18 columns):\n",
            " #   Column                        Non-Null Count  Dtype  \n",
            "---  ------                        --------------  -----  \n",
            " 0   Date received                 79973 non-null  object \n",
            " 1   Product                       79973 non-null  object \n",
            " 2   Sub-product                   79973 non-null  object \n",
            " 3   Issue                         79973 non-null  object \n",
            " 4   Sub-issue                     79662 non-null  object \n",
            " 5   Consumer complaint narrative  79973 non-null  object \n",
            " 6   Company public response       51328 non-null  object \n",
            " 7   Company                       79973 non-null  object \n",
            " 8   State                         79706 non-null  object \n",
            " 9   ZIP code                      79973 non-null  object \n",
            " 10  Tags                          4432 non-null   object \n",
            " 11  Consumer consent provided?    79973 non-null  object \n",
            " 12  Submitted via                 79973 non-null  object \n",
            " 13  Date sent to company          79973 non-null  object \n",
            " 14  Company response to consumer  79972 non-null  object \n",
            " 15  Timely response?              79973 non-null  object \n",
            " 16  Consumer disputed?            0 non-null      float64\n",
            " 17  Complaint ID                  79973 non-null  int64  \n",
            "dtypes: float64(1), int64(1), object(16)\n",
            "memory usage: 11.0+ MB\n"
          ]
        }
      ],
      "source": [
        "data.info()"
      ]
    },
    {
      "cell_type": "code",
      "execution_count": 5,
      "metadata": {
        "colab": {
          "base_uri": "https://localhost:8080/",
          "height": 0
        },
        "id": "TVrQPYN8AMu6",
        "outputId": "3c834a27-a492-45bf-c632-9cfffe173a78"
      },
      "outputs": [
        {
          "output_type": "stream",
          "name": "stdout",
          "text": [
            "Requirement already satisfied: pyLDAvis in /usr/local/lib/python3.10/dist-packages (3.4.1)\n",
            "Requirement already satisfied: numpy>=1.24.2 in /usr/local/lib/python3.10/dist-packages (from pyLDAvis) (1.25.2)\n",
            "Requirement already satisfied: scipy in /usr/local/lib/python3.10/dist-packages (from pyLDAvis) (1.11.4)\n",
            "Requirement already satisfied: pandas>=2.0.0 in /usr/local/lib/python3.10/dist-packages (from pyLDAvis) (2.0.3)\n",
            "Requirement already satisfied: joblib>=1.2.0 in /usr/local/lib/python3.10/dist-packages (from pyLDAvis) (1.4.2)\n",
            "Requirement already satisfied: jinja2 in /usr/local/lib/python3.10/dist-packages (from pyLDAvis) (3.1.4)\n",
            "Requirement already satisfied: numexpr in /usr/local/lib/python3.10/dist-packages (from pyLDAvis) (2.10.0)\n",
            "Requirement already satisfied: funcy in /usr/local/lib/python3.10/dist-packages (from pyLDAvis) (2.0)\n",
            "Requirement already satisfied: scikit-learn>=1.0.0 in /usr/local/lib/python3.10/dist-packages (from pyLDAvis) (1.2.2)\n",
            "Requirement already satisfied: gensim in /usr/local/lib/python3.10/dist-packages (from pyLDAvis) (4.3.2)\n",
            "Requirement already satisfied: setuptools in /usr/local/lib/python3.10/dist-packages (from pyLDAvis) (67.7.2)\n",
            "Requirement already satisfied: python-dateutil>=2.8.2 in /usr/local/lib/python3.10/dist-packages (from pandas>=2.0.0->pyLDAvis) (2.8.2)\n",
            "Requirement already satisfied: pytz>=2020.1 in /usr/local/lib/python3.10/dist-packages (from pandas>=2.0.0->pyLDAvis) (2023.4)\n",
            "Requirement already satisfied: tzdata>=2022.1 in /usr/local/lib/python3.10/dist-packages (from pandas>=2.0.0->pyLDAvis) (2024.1)\n",
            "Requirement already satisfied: threadpoolctl>=2.0.0 in /usr/local/lib/python3.10/dist-packages (from scikit-learn>=1.0.0->pyLDAvis) (3.5.0)\n",
            "Requirement already satisfied: smart-open>=1.8.1 in /usr/local/lib/python3.10/dist-packages (from gensim->pyLDAvis) (7.0.4)\n",
            "Requirement already satisfied: MarkupSafe>=2.0 in /usr/local/lib/python3.10/dist-packages (from jinja2->pyLDAvis) (2.1.5)\n",
            "Requirement already satisfied: six>=1.5 in /usr/local/lib/python3.10/dist-packages (from python-dateutil>=2.8.2->pandas>=2.0.0->pyLDAvis) (1.16.0)\n",
            "Requirement already satisfied: wrapt in /usr/local/lib/python3.10/dist-packages (from smart-open>=1.8.1->gensim->pyLDAvis) (1.14.1)\n"
          ]
        },
        {
          "output_type": "stream",
          "name": "stderr",
          "text": [
            "[nltk_data] Downloading package stopwords to /root/nltk_data...\n",
            "[nltk_data]   Package stopwords is already up-to-date!\n",
            "[nltk_data] Downloading package punkt to /root/nltk_data...\n",
            "[nltk_data]   Package punkt is already up-to-date!\n"
          ]
        },
        {
          "output_type": "execute_result",
          "data": {
            "text/plain": [
              "True"
            ]
          },
          "metadata": {},
          "execution_count": 5
        }
      ],
      "source": [
        "import string\n",
        "import re\n",
        "from nltk.corpus import stopwords\n",
        "from nltk.tokenize import word_tokenize\n",
        "import nltk\n",
        "import pandas as pd\n",
        "from sklearn.feature_extraction.text import CountVectorizer, TfidfTransformer\n",
        "from sklearn.decomposition import LatentDirichletAllocation\n",
        "!pip install pyLDAvis\n",
        "import pyLDAvis\n",
        "import pyLDAvis.lda_model\n",
        "import matplotlib.pyplot as plt\n",
        "import gensim\n",
        "from gensim.models.coherencemodel import CoherenceModel\n",
        "from gensim.corpora.dictionary import Dictionary\n",
        "import os\n",
        "nltk.download('stopwords')\n",
        "nltk.download('punkt')"
      ]
    },
    {
      "cell_type": "code",
      "execution_count": 6,
      "metadata": {
        "colab": {
          "base_uri": "https://localhost:8080/",
          "height": 0
        },
        "id": "7PrcwnfPAUQ2",
        "outputId": "2198821e-ff1e-4e65-e51a-6b0b1c705240"
      },
      "outputs": [
        {
          "output_type": "stream",
          "name": "stderr",
          "text": [
            "/usr/local/lib/python3.10/dist-packages/ipykernel/ipkernel.py:283: DeprecationWarning: `should_run_async` will not call `transform_cell` automatically in the future. Please pass the result to `transformed_cell` argument and any exception that happen during thetransform in `preprocessing_exc_tuple` in IPython 7.17 and above.\n",
            "  and should_run_async(code)\n"
          ]
        }
      ],
      "source": [
        "stop_words = set(stopwords.words('english'))\n",
        "\n",
        "def preprocessText(text):\n",
        "  text = text.lower()\n",
        "  text = re.sub(r'[^a-z\\s]', '', text)\n",
        "  words = word_tokenize(text)\n",
        "  words = [word for word in words if word not in stop_words]\n",
        "\n",
        "  return ' '.join(words)\n",
        "\n",
        "data['tokens'] = data['Consumer complaint narrative'].apply(preprocessText)"
      ]
    },
    {
      "cell_type": "code",
      "execution_count": 7,
      "metadata": {
        "colab": {
          "base_uri": "https://localhost:8080/",
          "height": 0
        },
        "id": "u_dlbY5lBISW",
        "outputId": "2edc904e-66a3-46ef-c21b-c56133cbfaf7"
      },
      "outputs": [
        {
          "output_type": "stream",
          "name": "stderr",
          "text": [
            "/usr/local/lib/python3.10/dist-packages/ipykernel/ipkernel.py:283: DeprecationWarning: `should_run_async` will not call `transform_cell` automatically in the future. Please pass the result to `transformed_cell` argument and any exception that happen during thetransform in `preprocessing_exc_tuple` in IPython 7.17 and above.\n",
            "  and should_run_async(code)\n"
          ]
        },
        {
          "output_type": "execute_result",
          "data": {
            "text/plain": [
              "0    requesting removal fraudulent inquiries credit...\n",
              "1    writing delete following information file item...\n",
              "2    disappointed received credit report contains i...\n",
              "3    received credit report suggests may owed somet...\n",
              "4    accordance fair credit reporting act list acco...\n",
              "5    writing formally dispute late payment entry ap...\n",
              "6    hope message finds well writing express disapp...\n",
              "7    notice lot fraudulent hard inquiries credit re...\n",
              "8    hope letter finds well writing express dissati...\n",
              "9    upon reviewing credit report identified inaccu...\n",
              "Name: tokens, dtype: object"
            ]
          },
          "metadata": {},
          "execution_count": 7
        }
      ],
      "source": [
        "data['tokens'].head(10)"
      ]
    },
    {
      "cell_type": "markdown",
      "metadata": {
        "id": "ouFFN315BWZ3"
      },
      "source": [
        "3. Topic Modeling"
      ]
    },
    {
      "cell_type": "code",
      "execution_count": 8,
      "metadata": {
        "colab": {
          "base_uri": "https://localhost:8080/",
          "height": 0
        },
        "id": "IwAHOzmiBTQv",
        "outputId": "b3a3dc38-83a3-4cd2-b0d9-3a0a4261337a"
      },
      "outputs": [
        {
          "output_type": "stream",
          "name": "stderr",
          "text": [
            "/usr/local/lib/python3.10/dist-packages/ipykernel/ipkernel.py:283: DeprecationWarning: `should_run_async` will not call `transform_cell` automatically in the future. Please pass the result to `transformed_cell` argument and any exception that happen during thetransform in `preprocessing_exc_tuple` in IPython 7.17 and above.\n",
            "  and should_run_async(code)\n"
          ]
        }
      ],
      "source": [
        "stop_words_list = list(stop_words)\n",
        "\n",
        "vectorizer = CountVectorizer(stop_words=stop_words_list, lowercase=True, token_pattern=r'\\b[a-zA-Z]{3,}\\b', max_df=0.8, min_df=0.01)\n",
        "X = vectorizer.fit_transform(data['tokens'])\n",
        "\n",
        "tfidf_transformer = TfidfTransformer()\n",
        "X_tfidf = tfidf_transformer.fit_transform(X)"
      ]
    },
    {
      "cell_type": "code",
      "execution_count": 9,
      "metadata": {
        "colab": {
          "base_uri": "https://localhost:8080/",
          "height": 0
        },
        "id": "9ak8FU1pDXBY",
        "outputId": "7a195547-b6d0-4ae7-a44c-1ea158c1373a"
      },
      "outputs": [
        {
          "output_type": "stream",
          "name": "stderr",
          "text": [
            "/usr/local/lib/python3.10/dist-packages/ipykernel/ipkernel.py:283: DeprecationWarning: `should_run_async` will not call `transform_cell` automatically in the future. Please pass the result to `transformed_cell` argument and any exception that happen during thetransform in `preprocessing_exc_tuple` in IPython 7.17 and above.\n",
            "  and should_run_async(code)\n"
          ]
        },
        {
          "output_type": "stream",
          "name": "stdout",
          "text": [
            "iteration: 1 of max_iter: 10\n",
            "iteration: 2 of max_iter: 10\n",
            "iteration: 3 of max_iter: 10\n",
            "iteration: 4 of max_iter: 10\n",
            "iteration: 5 of max_iter: 10\n",
            "iteration: 6 of max_iter: 10\n",
            "iteration: 7 of max_iter: 10\n",
            "iteration: 8 of max_iter: 10\n",
            "iteration: 9 of max_iter: 10\n",
            "iteration: 10 of max_iter: 10\n",
            "Topic 0:\n",
            "consumer code consent agencies accuracy complaint address concerning attached attention assure bureau anything accurate compliance come business appreciated agent believe\n",
            "Topic 1:\n",
            "card bank called back amount asked also call charge charges account contacted address contact company closed another bill able charged\n",
            "Topic 2:\n",
            "accounts breach address causing authorize check appears bankruptcy ability attached contain behind assist bureaus bit companies accurate addresses belong affecting\n",
            "Topic 3:\n",
            "bureaus complaint company bureau accounts capital also cfpb action checked certain ago communication concerned caused collection believe complaints attached claim\n",
            "Topic 4:\n",
            "accounts accuracy according action accurate also act caused attention address concerns assistance complete ability additionally compliance already breach choice completeness\n",
            "Topic 5:\n",
            "consumer agency accordance act account also adverse believe cause accounts confidentiality antedates according agencies clearly congress authorized consumers circumstances avoid\n",
            "Topic 6:\n",
            "account also closed accurate charged charge agreed collection accounts act amount according activity accurately company always believe best complete consumer\n",
            "Topic 7:\n",
            "accounts company block authorization blocking consumer concerning consistently accurately billing communicate attributed along also card address ago blocked according always\n",
            "Topic 8:\n",
            "consumer act collection alleged consumers cfr collector action company comply amount additionally collect clear civil communication based agreement claim authorization\n",
            "Topic 9:\n",
            "balance authorized attached bureaus across belong activity business complaint alleged came allowed assist according coming block already assuming agencies amount\n"
          ]
        }
      ],
      "source": [
        "max_features = int(X_tfidf.shape[1] * 0.2)\n",
        "lda_input = X[:, :max_features]\n",
        "\n",
        "n_topics = 10\n",
        "lda_model = LatentDirichletAllocation(n_components=n_topics, max_iter=10, random_state=9001, verbose=1)\n",
        "lda_model.fit(lda_input)\n",
        "\n",
        "terms = vectorizer.get_feature_names_out()\n",
        "for topic_idx, topic in enumerate(lda_model.components_):\n",
        "    print(f\"Topic {topic_idx}:\")\n",
        "    print(\" \".join([terms[i] for i in topic.argsort()[:-21:-1]]))"
      ]
    },
    {
      "cell_type": "markdown",
      "metadata": {
        "id": "BLtzkicP-O-v"
      },
      "source": [
        "**4. Extract Topics and Interpret**"
      ]
    },
    {
      "cell_type": "code",
      "execution_count": 10,
      "metadata": {
        "colab": {
          "base_uri": "https://localhost:8080/",
          "height": 0
        },
        "id": "mV25D6Jn9Cv5",
        "outputId": "62b3857f-f6c7-4ab0-f791-b3e2d5b88f76"
      },
      "outputs": [
        {
          "output_type": "stream",
          "name": "stderr",
          "text": [
            "/usr/local/lib/python3.10/dist-packages/ipykernel/ipkernel.py:283: DeprecationWarning: `should_run_async` will not call `transform_cell` automatically in the future. Please pass the result to `transformed_cell` argument and any exception that happen during thetransform in `preprocessing_exc_tuple` in IPython 7.17 and above.\n",
            "  and should_run_async(code)\n"
          ]
        }
      ],
      "source": [
        "def assignTopic(ldaModel, _corpus):\n",
        "    topic_distributions = lda_model.transform(lda_input)\n",
        "    topics = topic_distributions.argmax(axis=1)\n",
        "    return topics\n",
        "\n",
        "data['topic'] = assignTopic(lda_model, lda_input)"
      ]
    },
    {
      "cell_type": "code",
      "execution_count": 11,
      "metadata": {
        "id": "C9JNi0Ge-aYQ",
        "colab": {
          "base_uri": "https://localhost:8080/",
          "height": 260
        },
        "outputId": "ce5d4fe2-91b1-4b75-f018-20a875522f18"
      },
      "outputs": [
        {
          "output_type": "stream",
          "name": "stderr",
          "text": [
            "/usr/local/lib/python3.10/dist-packages/ipykernel/ipkernel.py:283: DeprecationWarning: `should_run_async` will not call `transform_cell` automatically in the future. Please pass the result to `transformed_cell` argument and any exception that happen during thetransform in `preprocessing_exc_tuple` in IPython 7.17 and above.\n",
            "  and should_run_async(code)\n"
          ]
        },
        {
          "output_type": "execute_result",
          "data": {
            "text/plain": [
              "                        Consumer complaint narrative  topic\n",
              "0  I am requesting the removal of fraudulent inqu...      4\n",
              "1  I am writing to delete the following informati...      1\n",
              "2  I am disappointed to have received a credit re...      5\n",
              "3  I have received my credit report which suggest...      5\n",
              "4  In accordance with the Fair Credit Reporting a...      5"
            ],
            "text/html": [
              "\n",
              "  <div id=\"df-f3e1f708-347e-4d9e-b55f-4cc14b3e6d2a\" class=\"colab-df-container\">\n",
              "    <div>\n",
              "<style scoped>\n",
              "    .dataframe tbody tr th:only-of-type {\n",
              "        vertical-align: middle;\n",
              "    }\n",
              "\n",
              "    .dataframe tbody tr th {\n",
              "        vertical-align: top;\n",
              "    }\n",
              "\n",
              "    .dataframe thead th {\n",
              "        text-align: right;\n",
              "    }\n",
              "</style>\n",
              "<table border=\"1\" class=\"dataframe\">\n",
              "  <thead>\n",
              "    <tr style=\"text-align: right;\">\n",
              "      <th></th>\n",
              "      <th>Consumer complaint narrative</th>\n",
              "      <th>topic</th>\n",
              "    </tr>\n",
              "  </thead>\n",
              "  <tbody>\n",
              "    <tr>\n",
              "      <th>0</th>\n",
              "      <td>I am requesting the removal of fraudulent inqu...</td>\n",
              "      <td>4</td>\n",
              "    </tr>\n",
              "    <tr>\n",
              "      <th>1</th>\n",
              "      <td>I am writing to delete the following informati...</td>\n",
              "      <td>1</td>\n",
              "    </tr>\n",
              "    <tr>\n",
              "      <th>2</th>\n",
              "      <td>I am disappointed to have received a credit re...</td>\n",
              "      <td>5</td>\n",
              "    </tr>\n",
              "    <tr>\n",
              "      <th>3</th>\n",
              "      <td>I have received my credit report which suggest...</td>\n",
              "      <td>5</td>\n",
              "    </tr>\n",
              "    <tr>\n",
              "      <th>4</th>\n",
              "      <td>In accordance with the Fair Credit Reporting a...</td>\n",
              "      <td>5</td>\n",
              "    </tr>\n",
              "  </tbody>\n",
              "</table>\n",
              "</div>\n",
              "    <div class=\"colab-df-buttons\">\n",
              "\n",
              "  <div class=\"colab-df-container\">\n",
              "    <button class=\"colab-df-convert\" onclick=\"convertToInteractive('df-f3e1f708-347e-4d9e-b55f-4cc14b3e6d2a')\"\n",
              "            title=\"Convert this dataframe to an interactive table.\"\n",
              "            style=\"display:none;\">\n",
              "\n",
              "  <svg xmlns=\"http://www.w3.org/2000/svg\" height=\"24px\" viewBox=\"0 -960 960 960\">\n",
              "    <path d=\"M120-120v-720h720v720H120Zm60-500h600v-160H180v160Zm220 220h160v-160H400v160Zm0 220h160v-160H400v160ZM180-400h160v-160H180v160Zm440 0h160v-160H620v160ZM180-180h160v-160H180v160Zm440 0h160v-160H620v160Z\"/>\n",
              "  </svg>\n",
              "    </button>\n",
              "\n",
              "  <style>\n",
              "    .colab-df-container {\n",
              "      display:flex;\n",
              "      gap: 12px;\n",
              "    }\n",
              "\n",
              "    .colab-df-convert {\n",
              "      background-color: #E8F0FE;\n",
              "      border: none;\n",
              "      border-radius: 50%;\n",
              "      cursor: pointer;\n",
              "      display: none;\n",
              "      fill: #1967D2;\n",
              "      height: 32px;\n",
              "      padding: 0 0 0 0;\n",
              "      width: 32px;\n",
              "    }\n",
              "\n",
              "    .colab-df-convert:hover {\n",
              "      background-color: #E2EBFA;\n",
              "      box-shadow: 0px 1px 2px rgba(60, 64, 67, 0.3), 0px 1px 3px 1px rgba(60, 64, 67, 0.15);\n",
              "      fill: #174EA6;\n",
              "    }\n",
              "\n",
              "    .colab-df-buttons div {\n",
              "      margin-bottom: 4px;\n",
              "    }\n",
              "\n",
              "    [theme=dark] .colab-df-convert {\n",
              "      background-color: #3B4455;\n",
              "      fill: #D2E3FC;\n",
              "    }\n",
              "\n",
              "    [theme=dark] .colab-df-convert:hover {\n",
              "      background-color: #434B5C;\n",
              "      box-shadow: 0px 1px 3px 1px rgba(0, 0, 0, 0.15);\n",
              "      filter: drop-shadow(0px 1px 2px rgba(0, 0, 0, 0.3));\n",
              "      fill: #FFFFFF;\n",
              "    }\n",
              "  </style>\n",
              "\n",
              "    <script>\n",
              "      const buttonEl =\n",
              "        document.querySelector('#df-f3e1f708-347e-4d9e-b55f-4cc14b3e6d2a button.colab-df-convert');\n",
              "      buttonEl.style.display =\n",
              "        google.colab.kernel.accessAllowed ? 'block' : 'none';\n",
              "\n",
              "      async function convertToInteractive(key) {\n",
              "        const element = document.querySelector('#df-f3e1f708-347e-4d9e-b55f-4cc14b3e6d2a');\n",
              "        const dataTable =\n",
              "          await google.colab.kernel.invokeFunction('convertToInteractive',\n",
              "                                                    [key], {});\n",
              "        if (!dataTable) return;\n",
              "\n",
              "        const docLinkHtml = 'Like what you see? Visit the ' +\n",
              "          '<a target=\"_blank\" href=https://colab.research.google.com/notebooks/data_table.ipynb>data table notebook</a>'\n",
              "          + ' to learn more about interactive tables.';\n",
              "        element.innerHTML = '';\n",
              "        dataTable['output_type'] = 'display_data';\n",
              "        await google.colab.output.renderOutput(dataTable, element);\n",
              "        const docLink = document.createElement('div');\n",
              "        docLink.innerHTML = docLinkHtml;\n",
              "        element.appendChild(docLink);\n",
              "      }\n",
              "    </script>\n",
              "  </div>\n",
              "\n",
              "\n",
              "<div id=\"df-748c80df-b587-4356-87a5-16071cb5fab0\">\n",
              "  <button class=\"colab-df-quickchart\" onclick=\"quickchart('df-748c80df-b587-4356-87a5-16071cb5fab0')\"\n",
              "            title=\"Suggest charts\"\n",
              "            style=\"display:none;\">\n",
              "\n",
              "<svg xmlns=\"http://www.w3.org/2000/svg\" height=\"24px\"viewBox=\"0 0 24 24\"\n",
              "     width=\"24px\">\n",
              "    <g>\n",
              "        <path d=\"M19 3H5c-1.1 0-2 .9-2 2v14c0 1.1.9 2 2 2h14c1.1 0 2-.9 2-2V5c0-1.1-.9-2-2-2zM9 17H7v-7h2v7zm4 0h-2V7h2v10zm4 0h-2v-4h2v4z\"/>\n",
              "    </g>\n",
              "</svg>\n",
              "  </button>\n",
              "\n",
              "<style>\n",
              "  .colab-df-quickchart {\n",
              "      --bg-color: #E8F0FE;\n",
              "      --fill-color: #1967D2;\n",
              "      --hover-bg-color: #E2EBFA;\n",
              "      --hover-fill-color: #174EA6;\n",
              "      --disabled-fill-color: #AAA;\n",
              "      --disabled-bg-color: #DDD;\n",
              "  }\n",
              "\n",
              "  [theme=dark] .colab-df-quickchart {\n",
              "      --bg-color: #3B4455;\n",
              "      --fill-color: #D2E3FC;\n",
              "      --hover-bg-color: #434B5C;\n",
              "      --hover-fill-color: #FFFFFF;\n",
              "      --disabled-bg-color: #3B4455;\n",
              "      --disabled-fill-color: #666;\n",
              "  }\n",
              "\n",
              "  .colab-df-quickchart {\n",
              "    background-color: var(--bg-color);\n",
              "    border: none;\n",
              "    border-radius: 50%;\n",
              "    cursor: pointer;\n",
              "    display: none;\n",
              "    fill: var(--fill-color);\n",
              "    height: 32px;\n",
              "    padding: 0;\n",
              "    width: 32px;\n",
              "  }\n",
              "\n",
              "  .colab-df-quickchart:hover {\n",
              "    background-color: var(--hover-bg-color);\n",
              "    box-shadow: 0 1px 2px rgba(60, 64, 67, 0.3), 0 1px 3px 1px rgba(60, 64, 67, 0.15);\n",
              "    fill: var(--button-hover-fill-color);\n",
              "  }\n",
              "\n",
              "  .colab-df-quickchart-complete:disabled,\n",
              "  .colab-df-quickchart-complete:disabled:hover {\n",
              "    background-color: var(--disabled-bg-color);\n",
              "    fill: var(--disabled-fill-color);\n",
              "    box-shadow: none;\n",
              "  }\n",
              "\n",
              "  .colab-df-spinner {\n",
              "    border: 2px solid var(--fill-color);\n",
              "    border-color: transparent;\n",
              "    border-bottom-color: var(--fill-color);\n",
              "    animation:\n",
              "      spin 1s steps(1) infinite;\n",
              "  }\n",
              "\n",
              "  @keyframes spin {\n",
              "    0% {\n",
              "      border-color: transparent;\n",
              "      border-bottom-color: var(--fill-color);\n",
              "      border-left-color: var(--fill-color);\n",
              "    }\n",
              "    20% {\n",
              "      border-color: transparent;\n",
              "      border-left-color: var(--fill-color);\n",
              "      border-top-color: var(--fill-color);\n",
              "    }\n",
              "    30% {\n",
              "      border-color: transparent;\n",
              "      border-left-color: var(--fill-color);\n",
              "      border-top-color: var(--fill-color);\n",
              "      border-right-color: var(--fill-color);\n",
              "    }\n",
              "    40% {\n",
              "      border-color: transparent;\n",
              "      border-right-color: var(--fill-color);\n",
              "      border-top-color: var(--fill-color);\n",
              "    }\n",
              "    60% {\n",
              "      border-color: transparent;\n",
              "      border-right-color: var(--fill-color);\n",
              "    }\n",
              "    80% {\n",
              "      border-color: transparent;\n",
              "      border-right-color: var(--fill-color);\n",
              "      border-bottom-color: var(--fill-color);\n",
              "    }\n",
              "    90% {\n",
              "      border-color: transparent;\n",
              "      border-bottom-color: var(--fill-color);\n",
              "    }\n",
              "  }\n",
              "</style>\n",
              "\n",
              "  <script>\n",
              "    async function quickchart(key) {\n",
              "      const quickchartButtonEl =\n",
              "        document.querySelector('#' + key + ' button');\n",
              "      quickchartButtonEl.disabled = true;  // To prevent multiple clicks.\n",
              "      quickchartButtonEl.classList.add('colab-df-spinner');\n",
              "      try {\n",
              "        const charts = await google.colab.kernel.invokeFunction(\n",
              "            'suggestCharts', [key], {});\n",
              "      } catch (error) {\n",
              "        console.error('Error during call to suggestCharts:', error);\n",
              "      }\n",
              "      quickchartButtonEl.classList.remove('colab-df-spinner');\n",
              "      quickchartButtonEl.classList.add('colab-df-quickchart-complete');\n",
              "    }\n",
              "    (() => {\n",
              "      let quickchartButtonEl =\n",
              "        document.querySelector('#df-748c80df-b587-4356-87a5-16071cb5fab0 button');\n",
              "      quickchartButtonEl.style.display =\n",
              "        google.colab.kernel.accessAllowed ? 'block' : 'none';\n",
              "    })();\n",
              "  </script>\n",
              "</div>\n",
              "\n",
              "    </div>\n",
              "  </div>\n"
            ],
            "application/vnd.google.colaboratory.intrinsic+json": {
              "type": "dataframe",
              "summary": "{\n  \"name\": \"data[['Consumer complaint narrative', 'topic']]\",\n  \"rows\": 5,\n  \"fields\": [\n    {\n      \"column\": \"Consumer complaint narrative\",\n      \"properties\": {\n        \"dtype\": \"string\",\n        \"num_unique_values\": 5,\n        \"samples\": [\n          \"I am writing to delete the following information in my file. The items I need deleted are listed in the report. I am a victim of identity theft and did not make the charge. I ask that the items be deleted to correct my credit report. I reported the theft of my identity to the Federal Trade Commission and I also have enclosed copies of the Federal Trade Commissions Identity Theft Affidavit. Please delete the items as soon as possible.\",\n          \"In accordance with the Fair Credit Reporting act. The List of accounts below has violated my federally protected consumer rights to privacy and confidentiality under 15 USC 1681. \\n\\n15 U.S.C 1681 section 602 A. States I have the right to privacy. \\n\\n15 U.S.C 1681 Section 604 A Section 2 : It also states a consumer reporting agency can not furnish a account without my written instructions 15 U.S.C 1681c. ( a ) ( 5 ) Section States : no consumer reporting agency may make any consumer report containing any of the following items of information Any other adverse item of information, other than records of convictions of crimes which antedates the report by more than seven years. \\n\\n15 U.S.C. 1681s-2 ( A ) ( 1 ) A person shall not furnish any information relating to a consumer to any consumer reporting agency if the person knows or has reasonable cause to believe that the information is inaccurate.\",\n          \"I am disappointed to have received a credit report that contains inaccurate information about me. As per the Fair Credit Reporting Act, it is my right to dispute any information that I believe to be incorrect. I take this matter very seriously and I am deeply concerned that these false allegations of delinquency and derogatory information could harm my reputation and financial well-being. \\n\\nAlthough I am fighting back with all my strength, I need your cooperation to resolve this issue. I kindly request you to provide evidence that justifies why my accounts are considered to be in a negative state. It is my understanding that any data included in my file must be documented and validated before it can be used by creditors, as mandated by the law. However, it appears that your records are not meeting these standards. \\n\\n15 U.S.C 1681 section 602 A. States I have the right to privacy.\\n\\n15 U.S.C 1681 Section 604 A Section 2 : It also states a consumer reporting agency can not furnish a account without my written instructions 15 U.S.C 1681c. ( a ) ( 5 ) Section States : no consumer reporting agency may make any consumer report containing any of the following items of information Any other adverse item of information, other than records of convictions of crimes which antedates the r\\neport by more than seven years.\\n\\n15 U.S.C. 1681s-2 ( A ) ( 1 ) A person shall not furnish any information relating to a consumer to any consumer reporting agency if the person knows or has reasonable cause to believe that the information is inaccurate. \\n\\nListed below are the Accounts that are being challenged XXXX XXXX XXXXXXXX XXXX XXXX XXXX XXXX Listed below are the Inquiries that are being challenged XXXX XXXX XXXX XXXX XXXX XXXX XXXX XXXX XXXX XXXX XXXX XXXX XXXX XXXX XXXX XXXX XXXX XXXX XXXXXX/XX/XXXX XXXX XXXX XXXX XXXXXX/XX/XXXX\"\n        ],\n        \"semantic_type\": \"\",\n        \"description\": \"\"\n      }\n    },\n    {\n      \"column\": \"topic\",\n      \"properties\": {\n        \"dtype\": \"number\",\n        \"std\": 1,\n        \"min\": 1,\n        \"max\": 5,\n        \"num_unique_values\": 3,\n        \"samples\": [\n          4,\n          1,\n          5\n        ],\n        \"semantic_type\": \"\",\n        \"description\": \"\"\n      }\n    }\n  ]\n}"
            }
          },
          "metadata": {},
          "execution_count": 11
        }
      ],
      "source": [
        "data[['Consumer complaint narrative', 'topic']].head()"
      ]
    },
    {
      "cell_type": "code",
      "execution_count": 12,
      "metadata": {
        "colab": {
          "base_uri": "https://localhost:8080/",
          "height": 0
        },
        "id": "gTwnxM--9EJe",
        "outputId": "e3b26f70-5212-4c4d-f686-37129d2945b2"
      },
      "outputs": [
        {
          "output_type": "stream",
          "name": "stdout",
          "text": [
            "topic\n",
            "2    12000\n",
            "5    10386\n",
            "1     9541\n",
            "0     8881\n",
            "8     8302\n",
            "4     7780\n",
            "3     6596\n",
            "6     6400\n",
            "7     6260\n",
            "9     3827\n",
            "Name: count, dtype: int64\n"
          ]
        },
        {
          "output_type": "stream",
          "name": "stderr",
          "text": [
            "/usr/local/lib/python3.10/dist-packages/ipykernel/ipkernel.py:283: DeprecationWarning: `should_run_async` will not call `transform_cell` automatically in the future. Please pass the result to `transformed_cell` argument and any exception that happen during thetransform in `preprocessing_exc_tuple` in IPython 7.17 and above.\n",
            "  and should_run_async(code)\n"
          ]
        }
      ],
      "source": [
        "topic_distribution = data['topic'].value_counts()\n",
        "print(topic_distribution)"
      ]
    },
    {
      "cell_type": "code",
      "source": [
        "from sklearn.model_selection import GridSearchCV\n",
        "\n",
        "vectorizer2 = CountVectorizer(stop_words='english', token_pattern=r'\\b[a-zA-Z]{3,}\\b', max_df=0.8, min_df=0.01)\n",
        "X2 = vectorizer2.fit_transform(data['tokens'])\n",
        "\n",
        "search_params = {'n_components': [3, 5, 7, 9]}\n",
        "\n",
        "lda2 = LatentDirichletAllocation(max_iter=3, random_state=100)\n",
        "\n",
        "model = GridSearchCV(lda2, param_grid=search_params, cv=5)\n",
        "model.fit(X2)\n",
        "\n",
        "best_lda_model = model.best_estimator_\n",
        "\n",
        "print(\"Best Model's Params: \", model.best_params_)\n",
        "print(\"Best Log Likelihood Score: \", model.best_score_)\n",
        "print(\"Model Perplexity: \", best_lda_model.perplexity(X2))"
      ],
      "metadata": {
        "colab": {
          "base_uri": "https://localhost:8080/",
          "height": 0
        },
        "id": "0Kl97mJIKXGj",
        "outputId": "7f220e6a-8b99-486d-835c-30988f1677f5"
      },
      "execution_count": 14,
      "outputs": [
        {
          "output_type": "stream",
          "name": "stderr",
          "text": [
            "/usr/local/lib/python3.10/dist-packages/ipykernel/ipkernel.py:283: DeprecationWarning: `should_run_async` will not call `transform_cell` automatically in the future. Please pass the result to `transformed_cell` argument and any exception that happen during thetransform in `preprocessing_exc_tuple` in IPython 7.17 and above.\n",
            "  and should_run_async(code)\n"
          ]
        },
        {
          "output_type": "stream",
          "name": "stdout",
          "text": [
            "Best Model's Params:  {'n_components': 9}\n",
            "Best Log Likelihood Score:  -4981231.891740106\n",
            "Model Perplexity:  119.87899822614933\n"
          ]
        }
      ]
    },
    {
      "cell_type": "code",
      "source": [
        "max_features = int(X_tfidf.shape[1] * 0.2)\n",
        "lda_input = X[:, :max_features]\n",
        "\n",
        "n_topics = 9\n",
        "lda_model = LatentDirichletAllocation(n_components=n_topics, max_iter=10, random_state=9001, verbose=1)\n",
        "lda_model.fit(lda_input)\n",
        "\n",
        "\n",
        "terms = vectorizer.get_feature_names_out()\n",
        "for topic_idx, topic in enumerate(lda_model.components_):\n",
        "    print(f\"Topic {topic_idx}:\")\n",
        "    print(\" \".join([terms[i] for i in topic.argsort()[:-21:-1]]))"
      ],
      "metadata": {
        "colab": {
          "base_uri": "https://localhost:8080/",
          "height": 0
        },
        "id": "qehJDox5jo2u",
        "outputId": "3e053cee-017a-4707-9466-81cc42ee2f0c"
      },
      "execution_count": 15,
      "outputs": [
        {
          "output_type": "stream",
          "name": "stderr",
          "text": [
            "/usr/local/lib/python3.10/dist-packages/ipykernel/ipkernel.py:283: DeprecationWarning: `should_run_async` will not call `transform_cell` automatically in the future. Please pass the result to `transformed_cell` argument and any exception that happen during thetransform in `preprocessing_exc_tuple` in IPython 7.17 and above.\n",
            "  and should_run_async(code)\n"
          ]
        },
        {
          "output_type": "stream",
          "name": "stdout",
          "text": [
            "iteration: 1 of max_iter: 10\n",
            "iteration: 2 of max_iter: 10\n",
            "iteration: 3 of max_iter: 10\n",
            "iteration: 4 of max_iter: 10\n",
            "iteration: 5 of max_iter: 10\n",
            "iteration: 6 of max_iter: 10\n",
            "iteration: 7 of max_iter: 10\n",
            "iteration: 8 of max_iter: 10\n",
            "iteration: 9 of max_iter: 10\n",
            "iteration: 10 of max_iter: 10\n",
            "Topic 0:\n",
            "consumer code consent agencies accuracy accurate address attention complaint concerning bureau attached assure anything compliance according business come believe action\n",
            "Topic 1:\n",
            "card bank called back amount asked call also charge charges company account contacted address closed contact another bill able charged\n",
            "Topic 2:\n",
            "accounts breach causing appears address attached authorize check belong bankruptcy assist ability accurate contain bureaus behind bit confirmed companies addresses\n",
            "Topic 3:\n",
            "bureaus complaint bureau company accounts action also attached cfpb capital checked certain caused ago communication concerned complaints believe breach affected\n",
            "Topic 4:\n",
            "balance accounts action caused authorized also accuracy according already additionally assistance choice concerns ability affected addressing breach advantage attempts appearing\n",
            "Topic 5:\n",
            "consumer agency accordance act account also adverse believe accounts cause confidentiality antedates agencies according clearly consumers congress authorized circumstances avoid\n",
            "Topic 6:\n",
            "account also closed accurate charged charge agreed collection act according activity accuracy accounts complete amount asking accurately ability believe always\n",
            "Topic 7:\n",
            "accounts company block authorization blocking consumer concerning consistently accurately communicate blocked attributed along billing also address card ago business according\n",
            "Topic 8:\n",
            "consumer act collection alleged consumers action collector cfr clear also additionally comply compliance amount collect company claim conduct communication civil\n"
          ]
        }
      ]
    },
    {
      "cell_type": "code",
      "source": [
        "def assignTopic(ldaModel, _corpus):\n",
        "    topic_distributions = lda_model.transform(lda_input)\n",
        "    topics = topic_distributions.argmax(axis=1)\n",
        "    return topics\n",
        "\n",
        "data['topic2'] = assignTopic(lda_model, lda_input)"
      ],
      "metadata": {
        "colab": {
          "base_uri": "https://localhost:8080/",
          "height": 0
        },
        "id": "KJCyH0g6kAT8",
        "outputId": "61314263-4375-4062-8642-42d5edfe99a6"
      },
      "execution_count": 16,
      "outputs": [
        {
          "output_type": "stream",
          "name": "stderr",
          "text": [
            "/usr/local/lib/python3.10/dist-packages/ipykernel/ipkernel.py:283: DeprecationWarning: `should_run_async` will not call `transform_cell` automatically in the future. Please pass the result to `transformed_cell` argument and any exception that happen during thetransform in `preprocessing_exc_tuple` in IPython 7.17 and above.\n",
            "  and should_run_async(code)\n"
          ]
        }
      ]
    },
    {
      "cell_type": "code",
      "source": [
        "topic_distribution2 = data['topic2'].value_counts()\n",
        "print(topic_distribution2)"
      ],
      "metadata": {
        "colab": {
          "base_uri": "https://localhost:8080/",
          "height": 0
        },
        "id": "dBUUSJFfkIfa",
        "outputId": "52ee8450-2a90-40fb-816e-f7aaee003592"
      },
      "execution_count": 17,
      "outputs": [
        {
          "output_type": "stream",
          "name": "stdout",
          "text": [
            "topic2\n",
            "2    12183\n",
            "0    10794\n",
            "5    10668\n",
            "1     9685\n",
            "8     8554\n",
            "3     7639\n",
            "7     7071\n",
            "6     6836\n",
            "4     6543\n",
            "Name: count, dtype: int64\n"
          ]
        },
        {
          "output_type": "stream",
          "name": "stderr",
          "text": [
            "/usr/local/lib/python3.10/dist-packages/ipykernel/ipkernel.py:283: DeprecationWarning: `should_run_async` will not call `transform_cell` automatically in the future. Please pass the result to `transformed_cell` argument and any exception that happen during thetransform in `preprocessing_exc_tuple` in IPython 7.17 and above.\n",
            "  and should_run_async(code)\n"
          ]
        }
      ]
    },
    {
      "cell_type": "code",
      "source": [
        "import seaborn as sns\n",
        "import matplotlib.pyplot as plt\n",
        "\n",
        "sns.barplot(x=topic_distribution2.index, y=topic_distribution2.values)\n",
        "plt.xlabel('Topic')\n",
        "plt.ylabel('Frequency')\n",
        "plt.title('Frequency of Topics')\n",
        "plt.show()"
      ],
      "metadata": {
        "colab": {
          "base_uri": "https://localhost:8080/",
          "height": 527
        },
        "id": "NZFL4uollGPY",
        "outputId": "417c428d-8110-4e9a-8821-9fe3717c79e7"
      },
      "execution_count": 26,
      "outputs": [
        {
          "output_type": "stream",
          "name": "stderr",
          "text": [
            "/usr/local/lib/python3.10/dist-packages/ipykernel/ipkernel.py:283: DeprecationWarning: `should_run_async` will not call `transform_cell` automatically in the future. Please pass the result to `transformed_cell` argument and any exception that happen during thetransform in `preprocessing_exc_tuple` in IPython 7.17 and above.\n",
            "  and should_run_async(code)\n"
          ]
        },
        {
          "output_type": "display_data",
          "data": {
            "text/plain": [
              "<Figure size 640x480 with 1 Axes>"
            ],
            "image/png": "[encoded data removed]"
          },
          "metadata": {}
        }
      ]
    },
    {
      "cell_type": "markdown",
      "source": [
        "**5. Discussion**"
      ],
      "metadata": {
        "id": "BRhnWJsTdV_U"
      }
    },
    {
      "cell_type": "markdown",
      "source": [
        "The dataset used in this assignment was a collection of consumer complaints for the Consumer Financial Protection Bureau.  The dataset had almost 80,000 reported complaints.  The complaints were preprocessed where all special characters were removed, letters were converted to lowercase, stop words were removed, and the complaints were vectorized.  After the data was properly prepared, Latent Dirichlet Allocation (LDA) was used to perform topic modeling.\n",
        "Once topic modeling was complete using 10 topics, grid search was used to find the best number of topics for the dataset.  I attempted to use a range of 2-10 topics, but the execution time was extremely long.  From testing 3, 5, 7, and 9, the completion time was just under an hour.  \n",
        "\n",
        "Overall, the topic distribution appears to be relatively even.  In the first iteration of topic modeling using 10 topics, topics 0, 2, and 5 were the most frequent.  These three topics have topic words such as breach, authorized, concerning, and congress.  Breach, authorized, and concerning might suggest the complaints are about the methodologies used to obtain the information.  Congress might suggest the consumers are mentioning congress due to the questionable methods as well."
      ],
      "metadata": {
        "id": "LtesP6Dwdbxa"
      }
    }
  ],
  "metadata": {
    "accelerator": "GPU",
    "colab": {
      "gpuType": "A100",
      "machine_shape": "hm",
      "provenance": [],
      "authorship_tag": "ABX9TyNNq1+ZSU3Q3gq+3259im//",
      "include_colab_link": true
    },
    "kernelspec": {
      "display_name": "Python 3",
      "name": "python3"
    },
    "language_info": {
      "name": "python"
    }
  },
  "nbformat": 4,
  "nbformat_minor": 0
}